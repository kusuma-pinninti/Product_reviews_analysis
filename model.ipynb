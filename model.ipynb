{
 "cells": [
  {
   "cell_type": "markdown",
   "id": "b457ea63",
   "metadata": {
    "papermill": {
     "duration": 0.009182,
     "end_time": "2024-11-18T10:17:42.664056",
     "exception": false,
     "start_time": "2024-11-18T10:17:42.654874",
     "status": "completed"
    },
    "tags": []
   },
   "source": [
    "# Import Dependancies"
   ]
  },
  {
   "cell_type": "code",
   "execution_count": 4,
   "id": "2131f979",
   "metadata": {
    "execution": {
     "iopub.execute_input": "2024-11-18T10:17:42.683156Z",
     "iopub.status.busy": "2024-11-18T10:17:42.682698Z",
     "iopub.status.idle": "2024-11-18T10:18:11.167666Z",
     "shell.execute_reply": "2024-11-18T10:18:11.166448Z"
    },
    "papermill": {
     "duration": 28.498087,
     "end_time": "2024-11-18T10:18:11.170866",
     "exception": false,
     "start_time": "2024-11-18T10:17:42.672779",
     "status": "completed"
    },
    "tags": []
   },
   "outputs": [],
   "source": [
    "import pandas as pd\n",
    "import string\n",
    "import nltk\n",
    "from nltk.corpus import stopwords\n",
    "from nltk.stem import PorterStemmer\n",
    "from nltk.sentiment.vader import SentimentIntensityAnalyzer\n",
    "from sklearn.model_selection import train_test_split\n",
    "from sklearn.feature_extraction.text import TfidfVectorizer\n",
    "from sklearn.ensemble import RandomForestClassifier\n",
    "from sklearn.metrics import accuracy_score, confusion_matrix, classification_report\n",
    "import matplotlib.pyplot as plt\n",
    "import seaborn as sns\n",
    "from sklearn.pipeline import Pipeline"
   ]
  },
  {
   "cell_type": "code",
   "execution_count": 5,
   "id": "175f2f36",
   "metadata": {
    "execution": {
     "iopub.execute_input": "2024-11-18T10:18:11.192487Z",
     "iopub.status.busy": "2024-11-18T10:18:11.191647Z",
     "iopub.status.idle": "2024-11-18T10:18:11.446308Z",
     "shell.execute_reply": "2024-11-18T10:18:11.444912Z"
    },
    "papermill": {
     "duration": 0.268103,
     "end_time": "2024-11-18T10:18:11.449012",
     "exception": false,
     "start_time": "2024-11-18T10:18:11.180909",
     "status": "completed"
    },
    "tags": []
   },
   "outputs": [
    {
     "name": "stderr",
     "output_type": "stream",
     "text": [
      "[nltk_data] Downloading package stopwords to\n",
      "[nltk_data]     C:\\Users\\Kusuma\\AppData\\Roaming\\nltk_data...\n",
      "[nltk_data]   Package stopwords is already up-to-date!\n",
      "[nltk_data] Downloading package wordnet to\n",
      "[nltk_data]     C:\\Users\\Kusuma\\AppData\\Roaming\\nltk_data...\n",
      "[nltk_data]   Package wordnet is already up-to-date!\n",
      "[nltk_data] Downloading package punkt to\n",
      "[nltk_data]     C:\\Users\\Kusuma\\AppData\\Roaming\\nltk_data...\n",
      "[nltk_data]   Package punkt is already up-to-date!\n"
     ]
    },
    {
     "data": {
      "text/plain": [
       "True"
      ]
     },
     "execution_count": 5,
     "metadata": {},
     "output_type": "execute_result"
    }
   ],
   "source": [
    "# Download required NLTK resources\n",
    "nltk.download('stopwords')\n",
    "nltk.download('wordnet')\n",
    "nltk.download('punkt')"
   ]
  },
  {
   "cell_type": "markdown",
   "id": "29afad73",
   "metadata": {
    "papermill": {
     "duration": 0.008527,
     "end_time": "2024-11-18T10:18:11.466364",
     "exception": false,
     "start_time": "2024-11-18T10:18:11.457837",
     "status": "completed"
    },
    "tags": []
   },
   "source": [
    "# Data Loading and preprocessing"
   ]
  },
  {
   "cell_type": "code",
   "execution_count": 6,
   "id": "20ec39a9",
   "metadata": {
    "execution": {
     "iopub.execute_input": "2024-11-18T10:18:11.486847Z",
     "iopub.status.busy": "2024-11-18T10:18:11.486361Z",
     "iopub.status.idle": "2024-11-18T10:18:11.932108Z",
     "shell.execute_reply": "2024-11-18T10:18:11.930841Z"
    },
    "papermill": {
     "duration": 0.458963,
     "end_time": "2024-11-18T10:18:11.934413",
     "exception": false,
     "start_time": "2024-11-18T10:18:11.475450",
     "status": "completed"
    },
    "tags": []
   },
   "outputs": [
    {
     "name": "stderr",
     "output_type": "stream",
     "text": [
      "Downloading...\n",
      "From: https://drive.google.com/uc?export=download&id=16SI7Xz2XFYNmClqOPmCYyFRptlE7PqAQ\n",
      "To: c:\\Users\\Kusuma\\OneDrive\\Desktop\\Fake reviews detection system\\fake_reviews_dataset.csv\n",
      "100%|██████████| 15.3M/15.3M [00:06<00:00, 2.36MB/s]\n"
     ]
    },
    {
     "name": "stdout",
     "output_type": "stream",
     "text": [
      "             category  rating label  \\\n",
      "0  Home_and_Kitchen_5     5.0    CG   \n",
      "1  Home_and_Kitchen_5     5.0    CG   \n",
      "2  Home_and_Kitchen_5     5.0    CG   \n",
      "3  Home_and_Kitchen_5     1.0    CG   \n",
      "4  Home_and_Kitchen_5     5.0    CG   \n",
      "\n",
      "                                               text_  \n",
      "0  Love this!  Well made, sturdy, and very comfor...  \n",
      "1  love it, a great upgrade from the original.  I...  \n",
      "2  This pillow saved my back. I love the look and...  \n",
      "3  Missing information on how to use it, but it i...  \n",
      "4  Very nice set. Good quality. We have had the s...  \n"
     ]
    }
   ],
   "source": [
    "import gdown\n",
    "import pandas as pd\n",
    "\n",
    "# File ID from Google Drive\n",
    "file_id = \"16SI7Xz2XFYNmClqOPmCYyFRptlE7PqAQ\"  # Replace with your actual File ID\n",
    "\n",
    "# Construct Google Drive direct download URL\n",
    "url = f\"https://drive.google.com/uc?export=download&id=16SI7Xz2XFYNmClqOPmCYyFRptlE7PqAQ\"\n",
    "\n",
    "# Specify the output filename\n",
    "dataset_path = \"fake_reviews_dataset.csv\"\n",
    "\n",
    "# Download the file\n",
    "gdown.download(url, dataset_path, quiet=False)\n",
    "\n",
    "# Load the dataset\n",
    "df = pd.read_csv(dataset_path)\n",
    "print(df.head())  # Display the first 5 rows\n"
   ]
  },
  {
   "cell_type": "code",
   "execution_count": 7,
   "id": "87e96b7d",
   "metadata": {
    "execution": {
     "iopub.execute_input": "2024-11-18T10:18:11.955870Z",
     "iopub.status.busy": "2024-11-18T10:18:11.954968Z",
     "iopub.status.idle": "2024-11-18T10:18:11.977696Z",
     "shell.execute_reply": "2024-11-18T10:18:11.976224Z"
    },
    "papermill": {
     "duration": 0.035691,
     "end_time": "2024-11-18T10:18:11.980228",
     "exception": false,
     "start_time": "2024-11-18T10:18:11.944537",
     "status": "completed"
    },
    "tags": []
   },
   "outputs": [
    {
     "data": {
      "text/plain": [
       "label\n",
       "CG    20216\n",
       "OR    20216\n",
       "Name: count, dtype: int64"
      ]
     },
     "execution_count": 7,
     "metadata": {},
     "output_type": "execute_result"
    }
   ],
   "source": [
    "df['label'].value_counts()"
   ]
  },
  {
   "cell_type": "code",
   "execution_count": 8,
   "id": "4ff512b2",
   "metadata": {
    "execution": {
     "iopub.execute_input": "2024-11-18T10:18:12.000371Z",
     "iopub.status.busy": "2024-11-18T10:18:11.999893Z",
     "iopub.status.idle": "2024-11-18T10:18:12.009670Z",
     "shell.execute_reply": "2024-11-18T10:18:12.008470Z"
    },
    "papermill": {
     "duration": 0.023053,
     "end_time": "2024-11-18T10:18:12.012463",
     "exception": false,
     "start_time": "2024-11-18T10:18:11.989410",
     "status": "completed"
    },
    "tags": []
   },
   "outputs": [],
   "source": [
    "# Preprocessing functions\n",
    "stop_words = set(stopwords.words('english'))\n",
    "stemmer = PorterStemmer()"
   ]
  },
  {
   "cell_type": "code",
   "execution_count": 9,
   "id": "92fba605",
   "metadata": {
    "execution": {
     "iopub.execute_input": "2024-11-18T10:18:12.032898Z",
     "iopub.status.busy": "2024-11-18T10:18:12.032438Z",
     "iopub.status.idle": "2024-11-18T10:18:12.476131Z",
     "shell.execute_reply": "2024-11-18T10:18:12.474917Z"
    },
    "papermill": {
     "duration": 0.458206,
     "end_time": "2024-11-18T10:18:12.479904",
     "exception": false,
     "start_time": "2024-11-18T10:18:12.021698",
     "status": "completed"
    },
    "tags": []
   },
   "outputs": [],
   "source": [
    "# Tokenize the text\n",
    "df['tokens'] = df['text_'].apply(lambda x: x.split())"
   ]
  },
  {
   "cell_type": "code",
   "execution_count": 10,
   "id": "104051a4",
   "metadata": {
    "execution": {
     "iopub.execute_input": "2024-11-18T10:18:12.500928Z",
     "iopub.status.busy": "2024-11-18T10:18:12.500478Z",
     "iopub.status.idle": "2024-11-18T10:18:13.158881Z",
     "shell.execute_reply": "2024-11-18T10:18:13.157717Z"
    },
    "papermill": {
     "duration": 0.672038,
     "end_time": "2024-11-18T10:18:13.161817",
     "exception": false,
     "start_time": "2024-11-18T10:18:12.489779",
     "status": "completed"
    },
    "tags": []
   },
   "outputs": [],
   "source": [
    "# Remove stopwords\n",
    "df['tokens_no_stopwords'] = df['tokens'].apply(lambda x: [word for word in x if word.lower() not in stop_words])"
   ]
  },
  {
   "cell_type": "code",
   "execution_count": 11,
   "id": "3ddf8c3f",
   "metadata": {
    "execution": {
     "iopub.execute_input": "2024-11-18T10:18:13.182494Z",
     "iopub.status.busy": "2024-11-18T10:18:13.182056Z",
     "iopub.status.idle": "2024-11-18T10:19:04.507394Z",
     "shell.execute_reply": "2024-11-18T10:19:04.506291Z"
    },
    "papermill": {
     "duration": 51.338869,
     "end_time": "2024-11-18T10:19:04.510216",
     "exception": false,
     "start_time": "2024-11-18T10:18:13.171347",
     "status": "completed"
    },
    "tags": []
   },
   "outputs": [],
   "source": [
    "# Apply stemming\n",
    "df['tokens_stemmed'] = df['tokens_no_stopwords'].apply(lambda x: [stemmer.stem(word) for word in x])"
   ]
  },
  {
   "cell_type": "code",
   "execution_count": 12,
   "id": "61537e08",
   "metadata": {
    "execution": {
     "iopub.execute_input": "2024-11-18T10:19:04.530663Z",
     "iopub.status.busy": "2024-11-18T10:19:04.530177Z",
     "iopub.status.idle": "2024-11-18T10:19:04.615675Z",
     "shell.execute_reply": "2024-11-18T10:19:04.614328Z"
    },
    "papermill": {
     "duration": 0.099045,
     "end_time": "2024-11-18T10:19:04.618549",
     "exception": false,
     "start_time": "2024-11-18T10:19:04.519504",
     "status": "completed"
    },
    "tags": []
   },
   "outputs": [],
   "source": [
    "# Join the tokens back into a string for cleaned text\n",
    "df['cleaned_text'] = df['tokens_stemmed'].apply(lambda x: ' '.join(x))"
   ]
  },
  {
   "cell_type": "code",
   "execution_count": 13,
   "id": "e5e2398c",
   "metadata": {
    "execution": {
     "iopub.execute_input": "2024-11-18T10:19:04.639111Z",
     "iopub.status.busy": "2024-11-18T10:19:04.638668Z",
     "iopub.status.idle": "2024-11-18T10:19:04.662977Z",
     "shell.execute_reply": "2024-11-18T10:19:04.661807Z"
    },
    "papermill": {
     "duration": 0.037609,
     "end_time": "2024-11-18T10:19:04.665613",
     "exception": false,
     "start_time": "2024-11-18T10:19:04.628004",
     "status": "completed"
    },
    "tags": []
   },
   "outputs": [
    {
     "data": {
      "text/html": [
       "<div>\n",
       "<style scoped>\n",
       "    .dataframe tbody tr th:only-of-type {\n",
       "        vertical-align: middle;\n",
       "    }\n",
       "\n",
       "    .dataframe tbody tr th {\n",
       "        vertical-align: top;\n",
       "    }\n",
       "\n",
       "    .dataframe thead th {\n",
       "        text-align: right;\n",
       "    }\n",
       "</style>\n",
       "<table border=\"1\" class=\"dataframe\">\n",
       "  <thead>\n",
       "    <tr style=\"text-align: right;\">\n",
       "      <th></th>\n",
       "      <th>category</th>\n",
       "      <th>rating</th>\n",
       "      <th>label</th>\n",
       "      <th>text_</th>\n",
       "      <th>tokens</th>\n",
       "      <th>tokens_no_stopwords</th>\n",
       "      <th>tokens_stemmed</th>\n",
       "      <th>cleaned_text</th>\n",
       "    </tr>\n",
       "  </thead>\n",
       "  <tbody>\n",
       "    <tr>\n",
       "      <th>0</th>\n",
       "      <td>Home_and_Kitchen_5</td>\n",
       "      <td>5.0</td>\n",
       "      <td>CG</td>\n",
       "      <td>Love this!  Well made, sturdy, and very comfor...</td>\n",
       "      <td>[Love, this!, Well, made,, sturdy,, and, very,...</td>\n",
       "      <td>[Love, this!, Well, made,, sturdy,, comfortabl...</td>\n",
       "      <td>[love, this!, well, made,, sturdy,, comfortabl...</td>\n",
       "      <td>love this! well made, sturdy, comfortable. lov...</td>\n",
       "    </tr>\n",
       "    <tr>\n",
       "      <th>1</th>\n",
       "      <td>Home_and_Kitchen_5</td>\n",
       "      <td>5.0</td>\n",
       "      <td>CG</td>\n",
       "      <td>love it, a great upgrade from the original.  I...</td>\n",
       "      <td>[love, it,, a, great, upgrade, from, the, orig...</td>\n",
       "      <td>[love, it,, great, upgrade, original., I've, m...</td>\n",
       "      <td>[love, it,, great, upgrad, original., i'v, min...</td>\n",
       "      <td>love it, great upgrad original. i'v mine coupl...</td>\n",
       "    </tr>\n",
       "    <tr>\n",
       "      <th>2</th>\n",
       "      <td>Home_and_Kitchen_5</td>\n",
       "      <td>5.0</td>\n",
       "      <td>CG</td>\n",
       "      <td>This pillow saved my back. I love the look and...</td>\n",
       "      <td>[This, pillow, saved, my, back., I, love, the,...</td>\n",
       "      <td>[pillow, saved, back., love, look, feel, pillow.]</td>\n",
       "      <td>[pillow, save, back., love, look, feel, pillow.]</td>\n",
       "      <td>pillow save back. love look feel pillow.</td>\n",
       "    </tr>\n",
       "    <tr>\n",
       "      <th>3</th>\n",
       "      <td>Home_and_Kitchen_5</td>\n",
       "      <td>1.0</td>\n",
       "      <td>CG</td>\n",
       "      <td>Missing information on how to use it, but it i...</td>\n",
       "      <td>[Missing, information, on, how, to, use, it,, ...</td>\n",
       "      <td>[Missing, information, use, it,, great, produc...</td>\n",
       "      <td>[miss, inform, use, it,, great, product, price!]</td>\n",
       "      <td>miss inform use it, great product price!</td>\n",
       "    </tr>\n",
       "    <tr>\n",
       "      <th>4</th>\n",
       "      <td>Home_and_Kitchen_5</td>\n",
       "      <td>5.0</td>\n",
       "      <td>CG</td>\n",
       "      <td>Very nice set. Good quality. We have had the s...</td>\n",
       "      <td>[Very, nice, set., Good, quality., We, have, h...</td>\n",
       "      <td>[nice, set., Good, quality., set, two, months]</td>\n",
       "      <td>[nice, set., good, quality., set, two, month]</td>\n",
       "      <td>nice set. good quality. set two month</td>\n",
       "    </tr>\n",
       "  </tbody>\n",
       "</table>\n",
       "</div>"
      ],
      "text/plain": [
       "             category  rating label  \\\n",
       "0  Home_and_Kitchen_5     5.0    CG   \n",
       "1  Home_and_Kitchen_5     5.0    CG   \n",
       "2  Home_and_Kitchen_5     5.0    CG   \n",
       "3  Home_and_Kitchen_5     1.0    CG   \n",
       "4  Home_and_Kitchen_5     5.0    CG   \n",
       "\n",
       "                                               text_  \\\n",
       "0  Love this!  Well made, sturdy, and very comfor...   \n",
       "1  love it, a great upgrade from the original.  I...   \n",
       "2  This pillow saved my back. I love the look and...   \n",
       "3  Missing information on how to use it, but it i...   \n",
       "4  Very nice set. Good quality. We have had the s...   \n",
       "\n",
       "                                              tokens  \\\n",
       "0  [Love, this!, Well, made,, sturdy,, and, very,...   \n",
       "1  [love, it,, a, great, upgrade, from, the, orig...   \n",
       "2  [This, pillow, saved, my, back., I, love, the,...   \n",
       "3  [Missing, information, on, how, to, use, it,, ...   \n",
       "4  [Very, nice, set., Good, quality., We, have, h...   \n",
       "\n",
       "                                 tokens_no_stopwords  \\\n",
       "0  [Love, this!, Well, made,, sturdy,, comfortabl...   \n",
       "1  [love, it,, great, upgrade, original., I've, m...   \n",
       "2  [pillow, saved, back., love, look, feel, pillow.]   \n",
       "3  [Missing, information, use, it,, great, produc...   \n",
       "4     [nice, set., Good, quality., set, two, months]   \n",
       "\n",
       "                                      tokens_stemmed  \\\n",
       "0  [love, this!, well, made,, sturdy,, comfortabl...   \n",
       "1  [love, it,, great, upgrad, original., i'v, min...   \n",
       "2   [pillow, save, back., love, look, feel, pillow.]   \n",
       "3   [miss, inform, use, it,, great, product, price!]   \n",
       "4      [nice, set., good, quality., set, two, month]   \n",
       "\n",
       "                                        cleaned_text  \n",
       "0  love this! well made, sturdy, comfortable. lov...  \n",
       "1  love it, great upgrad original. i'v mine coupl...  \n",
       "2           pillow save back. love look feel pillow.  \n",
       "3           miss inform use it, great product price!  \n",
       "4              nice set. good quality. set two month  "
      ]
     },
     "execution_count": 13,
     "metadata": {},
     "output_type": "execute_result"
    }
   ],
   "source": [
    "df.head()"
   ]
  },
  {
   "cell_type": "markdown",
   "id": "627a43bc",
   "metadata": {
    "papermill": {
     "duration": 0.009242,
     "end_time": "2024-11-18T10:19:04.684596",
     "exception": false,
     "start_time": "2024-11-18T10:19:04.675354",
     "status": "completed"
    },
    "tags": []
   },
   "source": [
    "# EDA with Sentiment Analyzer"
   ]
  },
  {
   "cell_type": "code",
   "execution_count": 14,
   "id": "67b0d961",
   "metadata": {
    "execution": {
     "iopub.execute_input": "2024-11-18T10:19:04.708373Z",
     "iopub.status.busy": "2024-11-18T10:19:04.707920Z",
     "iopub.status.idle": "2024-11-18T10:19:04.733853Z",
     "shell.execute_reply": "2024-11-18T10:19:04.732706Z"
    },
    "papermill": {
     "duration": 0.040284,
     "end_time": "2024-11-18T10:19:04.736731",
     "exception": false,
     "start_time": "2024-11-18T10:19:04.696447",
     "status": "completed"
    },
    "tags": []
   },
   "outputs": [],
   "source": [
    "# Initialize the SentimentIntensityAnalyzer (VADER)\n",
    "sia = SentimentIntensityAnalyzer()"
   ]
  },
  {
   "cell_type": "code",
   "execution_count": 15,
   "id": "12f2f0b9",
   "metadata": {
    "execution": {
     "iopub.execute_input": "2024-11-18T10:19:04.757722Z",
     "iopub.status.busy": "2024-11-18T10:19:04.757309Z",
     "iopub.status.idle": "2024-11-18T10:19:29.979998Z",
     "shell.execute_reply": "2024-11-18T10:19:29.978733Z"
    },
    "papermill": {
     "duration": 25.236459,
     "end_time": "2024-11-18T10:19:29.982820",
     "exception": false,
     "start_time": "2024-11-18T10:19:04.746361",
     "status": "completed"
    },
    "tags": []
   },
   "outputs": [],
   "source": [
    "# Step 2: Perform sentiment analysis and categorize the sentiments\n",
    "def get_sentiment(text):\n",
    "    sentiment_score = sia.polarity_scores(text)['compound']\n",
    "    if sentiment_score > 0:\n",
    "        return 'Positive'\n",
    "    elif sentiment_score < 0:\n",
    "        return 'Negative'\n",
    "    else:\n",
    "        return 'Neutral'\n",
    "\n",
    "df['sentiment'] = df['cleaned_text'].apply(get_sentiment)"
   ]
  },
  {
   "cell_type": "code",
   "execution_count": 16,
   "id": "9a4d560a",
   "metadata": {
    "execution": {
     "iopub.execute_input": "2024-11-18T10:19:30.004848Z",
     "iopub.status.busy": "2024-11-18T10:19:30.004419Z",
     "iopub.status.idle": "2024-11-18T10:19:30.017945Z",
     "shell.execute_reply": "2024-11-18T10:19:30.016632Z"
    },
    "papermill": {
     "duration": 0.027271,
     "end_time": "2024-11-18T10:19:30.020369",
     "exception": false,
     "start_time": "2024-11-18T10:19:29.993098",
     "status": "completed"
    },
    "tags": []
   },
   "outputs": [],
   "source": [
    "# Count the number of occurrences of each sentiment type\n",
    "sentiment_counts = df['sentiment'].value_counts().reset_index()\n",
    "sentiment_counts.columns = ['Sentiment', 'Count']"
   ]
  },
  {
   "cell_type": "code",
   "execution_count": 17,
   "id": "e7113d4d",
   "metadata": {
    "execution": {
     "iopub.execute_input": "2024-11-18T10:19:30.041902Z",
     "iopub.status.busy": "2024-11-18T10:19:30.041005Z",
     "iopub.status.idle": "2024-11-18T10:19:30.385135Z",
     "shell.execute_reply": "2024-11-18T10:19:30.384004Z"
    },
    "papermill": {
     "duration": 0.35747,
     "end_time": "2024-11-18T10:19:30.387661",
     "exception": false,
     "start_time": "2024-11-18T10:19:30.030191",
     "status": "completed"
    },
    "tags": []
   },
   "outputs": [
    {
     "name": "stderr",
     "output_type": "stream",
     "text": [
      "C:\\Users\\Kusuma\\AppData\\Local\\Temp\\ipykernel_34644\\3270435995.py:3: FutureWarning: \n",
      "\n",
      "Passing `palette` without assigning `hue` is deprecated and will be removed in v0.14.0. Assign the `x` variable to `hue` and set `legend=False` for the same effect.\n",
      "\n",
      "  sns.barplot(x='Sentiment', y='Count', data=sentiment_counts, palette='viridis')\n"
     ]
    },
    {
     "data": {
      "image/png": "[encoded data removed]",
      "text/plain": [
       "<Figure size 800x600 with 1 Axes>"
      ]
     },
     "metadata": {},
     "output_type": "display_data"
    }
   ],
   "source": [
    "# Create a bar plot for overall sentiment distribution\n",
    "plt.figure(figsize=(8, 6))\n",
    "sns.barplot(x='Sentiment', y='Count', data=sentiment_counts, palette='viridis')\n",
    "plt.title('Overall Sentiment Distribution')\n",
    "plt.xlabel('Sentiment')\n",
    "plt.ylabel('Count')\n",
    "plt.show()"
   ]
  },
  {
   "cell_type": "code",
   "execution_count": 18,
   "id": "1cd5ff5e",
   "metadata": {
    "execution": {
     "iopub.execute_input": "2024-11-18T10:19:30.409634Z",
     "iopub.status.busy": "2024-11-18T10:19:30.409222Z",
     "iopub.status.idle": "2024-11-18T10:19:31.316116Z",
     "shell.execute_reply": "2024-11-18T10:19:31.314931Z"
    },
    "papermill": {
     "duration": 0.921395,
     "end_time": "2024-11-18T10:19:31.319120",
     "exception": false,
     "start_time": "2024-11-18T10:19:30.397725",
     "status": "completed"
    },
    "tags": []
   },
   "outputs": [
    {
     "data": {
      "image/png": "[encoded data removed]",
      "text/plain": [
       "<Figure size 1000x600 with 1 Axes>"
      ]
     },
     "metadata": {},
     "output_type": "display_data"
    }
   ],
   "source": [
    "# If 'label' column contains categories, you can group by it\n",
    "plt.figure(figsize=(10, 6))\n",
    "sns.countplot(x='sentiment', hue='label', data=df, palette='Set2')\n",
    "plt.title('Sentiment vs Label')\n",
    "plt.xlabel('Sentiment')\n",
    "plt.ylabel('Count')\n",
    "plt.show()"
   ]
  },
  {
   "cell_type": "markdown",
   "id": "01304ba7",
   "metadata": {
    "papermill": {
     "duration": 0.010088,
     "end_time": "2024-11-18T10:19:31.339692",
     "exception": false,
     "start_time": "2024-11-18T10:19:31.329604",
     "status": "completed"
    },
    "tags": []
   },
   "source": [
    "# Preparing the data for training"
   ]
  },
  {
   "cell_type": "code",
   "execution_count": 19,
   "id": "fc6be22b",
   "metadata": {
    "execution": {
     "iopub.execute_input": "2024-11-18T10:19:31.362586Z",
     "iopub.status.busy": "2024-11-18T10:19:31.362126Z",
     "iopub.status.idle": "2024-11-18T10:19:31.377167Z",
     "shell.execute_reply": "2024-11-18T10:19:31.376022Z"
    },
    "papermill": {
     "duration": 0.029867,
     "end_time": "2024-11-18T10:19:31.380082",
     "exception": false,
     "start_time": "2024-11-18T10:19:31.350215",
     "status": "completed"
    },
    "tags": []
   },
   "outputs": [],
   "source": [
    "# Split the data into training and testing sets\n",
    "X = df['cleaned_text']  # Feature (text data)\n",
    "y = df['label']  # Target (label data)\n",
    "\n",
    "X_train, X_test, y_train, y_test = train_test_split(X, y, test_size=0.3, random_state=42)"
   ]
  },
  {
   "cell_type": "code",
   "execution_count": 20,
   "id": "f2b789ed",
   "metadata": {
    "execution": {
     "iopub.execute_input": "2024-11-18T10:19:31.403324Z",
     "iopub.status.busy": "2024-11-18T10:19:31.402785Z",
     "iopub.status.idle": "2024-11-18T10:19:33.619575Z",
     "shell.execute_reply": "2024-11-18T10:19:33.618327Z"
    },
    "papermill": {
     "duration": 2.231696,
     "end_time": "2024-11-18T10:19:33.622476",
     "exception": false,
     "start_time": "2024-11-18T10:19:31.390780",
     "status": "completed"
    },
    "tags": []
   },
   "outputs": [],
   "source": [
    "# Vectorize the text using TF-IDF\n",
    "vectorizer = TfidfVectorizer(stop_words='english', max_features=5000)\n",
    "X_train_tfidf = vectorizer.fit_transform(X_train)\n",
    "X_test_tfidf = vectorizer.transform(X_test)"
   ]
  },
  {
   "cell_type": "markdown",
   "id": "5dc4ce79",
   "metadata": {
    "papermill": {
     "duration": 0.010111,
     "end_time": "2024-11-18T10:19:33.643429",
     "exception": false,
     "start_time": "2024-11-18T10:19:33.633318",
     "status": "completed"
    },
    "tags": []
   },
   "source": [
    "# Training the Random Forest Classifier"
   ]
  },
  {
   "cell_type": "code",
   "execution_count": 21,
   "id": "3f59ead7",
   "metadata": {
    "execution": {
     "iopub.execute_input": "2024-11-18T10:19:33.667352Z",
     "iopub.status.busy": "2024-11-18T10:19:33.665751Z",
     "iopub.status.idle": "2024-11-18T10:20:24.660914Z",
     "shell.execute_reply": "2024-11-18T10:20:24.659747Z"
    },
    "papermill": {
     "duration": 51.020461,
     "end_time": "2024-11-18T10:20:24.674371",
     "exception": false,
     "start_time": "2024-11-18T10:19:33.653910",
     "status": "completed"
    },
    "tags": []
   },
   "outputs": [
    {
     "data": {
      "text/html": [
       "<style>#sk-container-id-1 {\n",
       "  /* Definition of color scheme common for light and dark mode */\n",
       "  --sklearn-color-text: black;\n",
       "  --sklearn-color-line: gray;\n",
       "  /* Definition of color scheme for unfitted estimators */\n",
       "  --sklearn-color-unfitted-level-0: #fff5e6;\n",
       "  --sklearn-color-unfitted-level-1: #f6e4d2;\n",
       "  --sklearn-color-unfitted-level-2: #ffe0b3;\n",
       "  --sklearn-color-unfitted-level-3: chocolate;\n",
       "  /* Definition of color scheme for fitted estimators */\n",
       "  --sklearn-color-fitted-level-0: #f0f8ff;\n",
       "  --sklearn-color-fitted-level-1: #d4ebff;\n",
       "  --sklearn-color-fitted-level-2: #b3dbfd;\n",
       "  --sklearn-color-fitted-level-3: cornflowerblue;\n",
       "\n",
       "  /* Specific color for light theme */\n",
       "  --sklearn-color-text-on-default-background: var(--sg-text-color, var(--theme-code-foreground, var(--jp-content-font-color1, black)));\n",
       "  --sklearn-color-background: var(--sg-background-color, var(--theme-background, var(--jp-layout-color0, white)));\n",
       "  --sklearn-color-border-box: var(--sg-text-color, var(--theme-code-foreground, var(--jp-content-font-color1, black)));\n",
       "  --sklearn-color-icon: #696969;\n",
       "\n",
       "  @media (prefers-color-scheme: dark) {\n",
       "    /* Redefinition of color scheme for dark theme */\n",
       "    --sklearn-color-text-on-default-background: var(--sg-text-color, var(--theme-code-foreground, var(--jp-content-font-color1, white)));\n",
       "    --sklearn-color-background: var(--sg-background-color, var(--theme-background, var(--jp-layout-color0, #111)));\n",
       "    --sklearn-color-border-box: var(--sg-text-color, var(--theme-code-foreground, var(--jp-content-font-color1, white)));\n",
       "    --sklearn-color-icon: #878787;\n",
       "  }\n",
       "}\n",
       "\n",
       "#sk-container-id-1 {\n",
       "  color: var(--sklearn-color-text);\n",
       "}\n",
       "\n",
       "#sk-container-id-1 pre {\n",
       "  padding: 0;\n",
       "}\n",
       "\n",
       "#sk-container-id-1 input.sk-hidden--visually {\n",
       "  border: 0;\n",
       "  clip: rect(1px 1px 1px 1px);\n",
       "  clip: rect(1px, 1px, 1px, 1px);\n",
       "  height: 1px;\n",
       "  margin: -1px;\n",
       "  overflow: hidden;\n",
       "  padding: 0;\n",
       "  position: absolute;\n",
       "  width: 1px;\n",
       "}\n",
       "\n",
       "#sk-container-id-1 div.sk-dashed-wrapped {\n",
       "  border: 1px dashed var(--sklearn-color-line);\n",
       "  margin: 0 0.4em 0.5em 0.4em;\n",
       "  box-sizing: border-box;\n",
       "  padding-bottom: 0.4em;\n",
       "  background-color: var(--sklearn-color-background);\n",
       "}\n",
       "\n",
       "#sk-container-id-1 div.sk-container {\n",
       "  /* jupyter's `normalize.less` sets `[hidden] { display: none; }`\n",
       "     but bootstrap.min.css set `[hidden] { display: none !important; }`\n",
       "     so we also need the `!important` here to be able to override the\n",
       "     default hidden behavior on the sphinx rendered scikit-learn.org.\n",
       "     See: https://github.com/scikit-learn/scikit-learn/issues/21755 */\n",
       "  display: inline-block !important;\n",
       "  position: relative;\n",
       "}\n",
       "\n",
       "#sk-container-id-1 div.sk-text-repr-fallback {\n",
       "  display: none;\n",
       "}\n",
       "\n",
       "div.sk-parallel-item,\n",
       "div.sk-serial,\n",
       "div.sk-item {\n",
       "  /* draw centered vertical line to link estimators */\n",
       "  background-image: linear-gradient(var(--sklearn-color-text-on-default-background), var(--sklearn-color-text-on-default-background));\n",
       "  background-size: 2px 100%;\n",
       "  background-repeat: no-repeat;\n",
       "  background-position: center center;\n",
       "}\n",
       "\n",
       "/* Parallel-specific style estimator block */\n",
       "\n",
       "#sk-container-id-1 div.sk-parallel-item::after {\n",
       "  content: \"\";\n",
       "  width: 100%;\n",
       "  border-bottom: 2px solid var(--sklearn-color-text-on-default-background);\n",
       "  flex-grow: 1;\n",
       "}\n",
       "\n",
       "#sk-container-id-1 div.sk-parallel {\n",
       "  display: flex;\n",
       "  align-items: stretch;\n",
       "  justify-content: center;\n",
       "  background-color: var(--sklearn-color-background);\n",
       "  position: relative;\n",
       "}\n",
       "\n",
       "#sk-container-id-1 div.sk-parallel-item {\n",
       "  display: flex;\n",
       "  flex-direction: column;\n",
       "}\n",
       "\n",
       "#sk-container-id-1 div.sk-parallel-item:first-child::after {\n",
       "  align-self: flex-end;\n",
       "  width: 50%;\n",
       "}\n",
       "\n",
       "#sk-container-id-1 div.sk-parallel-item:last-child::after {\n",
       "  align-self: flex-start;\n",
       "  width: 50%;\n",
       "}\n",
       "\n",
       "#sk-container-id-1 div.sk-parallel-item:only-child::after {\n",
       "  width: 0;\n",
       "}\n",
       "\n",
       "/* Serial-specific style estimator block */\n",
       "\n",
       "#sk-container-id-1 div.sk-serial {\n",
       "  display: flex;\n",
       "  flex-direction: column;\n",
       "  align-items: center;\n",
       "  background-color: var(--sklearn-color-background);\n",
       "  padding-right: 1em;\n",
       "  padding-left: 1em;\n",
       "}\n",
       "\n",
       "\n",
       "/* Toggleable style: style used for estimator/Pipeline/ColumnTransformer box that is\n",
       "clickable and can be expanded/collapsed.\n",
       "- Pipeline and ColumnTransformer use this feature and define the default style\n",
       "- Estimators will overwrite some part of the style using the `sk-estimator` class\n",
       "*/\n",
       "\n",
       "/* Pipeline and ColumnTransformer style (default) */\n",
       "\n",
       "#sk-container-id-1 div.sk-toggleable {\n",
       "  /* Default theme specific background. It is overwritten whether we have a\n",
       "  specific estimator or a Pipeline/ColumnTransformer */\n",
       "  background-color: var(--sklearn-color-background);\n",
       "}\n",
       "\n",
       "/* Toggleable label */\n",
       "#sk-container-id-1 label.sk-toggleable__label {\n",
       "  cursor: pointer;\n",
       "  display: block;\n",
       "  width: 100%;\n",
       "  margin-bottom: 0;\n",
       "  padding: 0.5em;\n",
       "  box-sizing: border-box;\n",
       "  text-align: center;\n",
       "}\n",
       "\n",
       "#sk-container-id-1 label.sk-toggleable__label-arrow:before {\n",
       "  /* Arrow on the left of the label */\n",
       "  content: \"▸\";\n",
       "  float: left;\n",
       "  margin-right: 0.25em;\n",
       "  color: var(--sklearn-color-icon);\n",
       "}\n",
       "\n",
       "#sk-container-id-1 label.sk-toggleable__label-arrow:hover:before {\n",
       "  color: var(--sklearn-color-text);\n",
       "}\n",
       "\n",
       "/* Toggleable content - dropdown */\n",
       "\n",
       "#sk-container-id-1 div.sk-toggleable__content {\n",
       "  max-height: 0;\n",
       "  max-width: 0;\n",
       "  overflow: hidden;\n",
       "  text-align: left;\n",
       "  /* unfitted */\n",
       "  background-color: var(--sklearn-color-unfitted-level-0);\n",
       "}\n",
       "\n",
       "#sk-container-id-1 div.sk-toggleable__content.fitted {\n",
       "  /* fitted */\n",
       "  background-color: var(--sklearn-color-fitted-level-0);\n",
       "}\n",
       "\n",
       "#sk-container-id-1 div.sk-toggleable__content pre {\n",
       "  margin: 0.2em;\n",
       "  border-radius: 0.25em;\n",
       "  color: var(--sklearn-color-text);\n",
       "  /* unfitted */\n",
       "  background-color: var(--sklearn-color-unfitted-level-0);\n",
       "}\n",
       "\n",
       "#sk-container-id-1 div.sk-toggleable__content.fitted pre {\n",
       "  /* unfitted */\n",
       "  background-color: var(--sklearn-color-fitted-level-0);\n",
       "}\n",
       "\n",
       "#sk-container-id-1 input.sk-toggleable__control:checked~div.sk-toggleable__content {\n",
       "  /* Expand drop-down */\n",
       "  max-height: 200px;\n",
       "  max-width: 100%;\n",
       "  overflow: auto;\n",
       "}\n",
       "\n",
       "#sk-container-id-1 input.sk-toggleable__control:checked~label.sk-toggleable__label-arrow:before {\n",
       "  content: \"▾\";\n",
       "}\n",
       "\n",
       "/* Pipeline/ColumnTransformer-specific style */\n",
       "\n",
       "#sk-container-id-1 div.sk-label input.sk-toggleable__control:checked~label.sk-toggleable__label {\n",
       "  color: var(--sklearn-color-text);\n",
       "  background-color: var(--sklearn-color-unfitted-level-2);\n",
       "}\n",
       "\n",
       "#sk-container-id-1 div.sk-label.fitted input.sk-toggleable__control:checked~label.sk-toggleable__label {\n",
       "  background-color: var(--sklearn-color-fitted-level-2);\n",
       "}\n",
       "\n",
       "/* Estimator-specific style */\n",
       "\n",
       "/* Colorize estimator box */\n",
       "#sk-container-id-1 div.sk-estimator input.sk-toggleable__control:checked~label.sk-toggleable__label {\n",
       "  /* unfitted */\n",
       "  background-color: var(--sklearn-color-unfitted-level-2);\n",
       "}\n",
       "\n",
       "#sk-container-id-1 div.sk-estimator.fitted input.sk-toggleable__control:checked~label.sk-toggleable__label {\n",
       "  /* fitted */\n",
       "  background-color: var(--sklearn-color-fitted-level-2);\n",
       "}\n",
       "\n",
       "#sk-container-id-1 div.sk-label label.sk-toggleable__label,\n",
       "#sk-container-id-1 div.sk-label label {\n",
       "  /* The background is the default theme color */\n",
       "  color: var(--sklearn-color-text-on-default-background);\n",
       "}\n",
       "\n",
       "/* On hover, darken the color of the background */\n",
       "#sk-container-id-1 div.sk-label:hover label.sk-toggleable__label {\n",
       "  color: var(--sklearn-color-text);\n",
       "  background-color: var(--sklearn-color-unfitted-level-2);\n",
       "}\n",
       "\n",
       "/* Label box, darken color on hover, fitted */\n",
       "#sk-container-id-1 div.sk-label.fitted:hover label.sk-toggleable__label.fitted {\n",
       "  color: var(--sklearn-color-text);\n",
       "  background-color: var(--sklearn-color-fitted-level-2);\n",
       "}\n",
       "\n",
       "/* Estimator label */\n",
       "\n",
       "#sk-container-id-1 div.sk-label label {\n",
       "  font-family: monospace;\n",
       "  font-weight: bold;\n",
       "  display: inline-block;\n",
       "  line-height: 1.2em;\n",
       "}\n",
       "\n",
       "#sk-container-id-1 div.sk-label-container {\n",
       "  text-align: center;\n",
       "}\n",
       "\n",
       "/* Estimator-specific */\n",
       "#sk-container-id-1 div.sk-estimator {\n",
       "  font-family: monospace;\n",
       "  border: 1px dotted var(--sklearn-color-border-box);\n",
       "  border-radius: 0.25em;\n",
       "  box-sizing: border-box;\n",
       "  margin-bottom: 0.5em;\n",
       "  /* unfitted */\n",
       "  background-color: var(--sklearn-color-unfitted-level-0);\n",
       "}\n",
       "\n",
       "#sk-container-id-1 div.sk-estimator.fitted {\n",
       "  /* fitted */\n",
       "  background-color: var(--sklearn-color-fitted-level-0);\n",
       "}\n",
       "\n",
       "/* on hover */\n",
       "#sk-container-id-1 div.sk-estimator:hover {\n",
       "  /* unfitted */\n",
       "  background-color: var(--sklearn-color-unfitted-level-2);\n",
       "}\n",
       "\n",
       "#sk-container-id-1 div.sk-estimator.fitted:hover {\n",
       "  /* fitted */\n",
       "  background-color: var(--sklearn-color-fitted-level-2);\n",
       "}\n",
       "\n",
       "/* Specification for estimator info (e.g. \"i\" and \"?\") */\n",
       "\n",
       "/* Common style for \"i\" and \"?\" */\n",
       "\n",
       ".sk-estimator-doc-link,\n",
       "a:link.sk-estimator-doc-link,\n",
       "a:visited.sk-estimator-doc-link {\n",
       "  float: right;\n",
       "  font-size: smaller;\n",
       "  line-height: 1em;\n",
       "  font-family: monospace;\n",
       "  background-color: var(--sklearn-color-background);\n",
       "  border-radius: 1em;\n",
       "  height: 1em;\n",
       "  width: 1em;\n",
       "  text-decoration: none !important;\n",
       "  margin-left: 1ex;\n",
       "  /* unfitted */\n",
       "  border: var(--sklearn-color-unfitted-level-1) 1pt solid;\n",
       "  color: var(--sklearn-color-unfitted-level-1);\n",
       "}\n",
       "\n",
       ".sk-estimator-doc-link.fitted,\n",
       "a:link.sk-estimator-doc-link.fitted,\n",
       "a:visited.sk-estimator-doc-link.fitted {\n",
       "  /* fitted */\n",
       "  border: var(--sklearn-color-fitted-level-1) 1pt solid;\n",
       "  color: var(--sklearn-color-fitted-level-1);\n",
       "}\n",
       "\n",
       "/* On hover */\n",
       "div.sk-estimator:hover .sk-estimator-doc-link:hover,\n",
       ".sk-estimator-doc-link:hover,\n",
       "div.sk-label-container:hover .sk-estimator-doc-link:hover,\n",
       ".sk-estimator-doc-link:hover {\n",
       "  /* unfitted */\n",
       "  background-color: var(--sklearn-color-unfitted-level-3);\n",
       "  color: var(--sklearn-color-background);\n",
       "  text-decoration: none;\n",
       "}\n",
       "\n",
       "div.sk-estimator.fitted:hover .sk-estimator-doc-link.fitted:hover,\n",
       ".sk-estimator-doc-link.fitted:hover,\n",
       "div.sk-label-container:hover .sk-estimator-doc-link.fitted:hover,\n",
       ".sk-estimator-doc-link.fitted:hover {\n",
       "  /* fitted */\n",
       "  background-color: var(--sklearn-color-fitted-level-3);\n",
       "  color: var(--sklearn-color-background);\n",
       "  text-decoration: none;\n",
       "}\n",
       "\n",
       "/* Span, style for the box shown on hovering the info icon */\n",
       ".sk-estimator-doc-link span {\n",
       "  display: none;\n",
       "  z-index: 9999;\n",
       "  position: relative;\n",
       "  font-weight: normal;\n",
       "  right: .2ex;\n",
       "  padding: .5ex;\n",
       "  margin: .5ex;\n",
       "  width: min-content;\n",
       "  min-width: 20ex;\n",
       "  max-width: 50ex;\n",
       "  color: var(--sklearn-color-text);\n",
       "  box-shadow: 2pt 2pt 4pt #999;\n",
       "  /* unfitted */\n",
       "  background: var(--sklearn-color-unfitted-level-0);\n",
       "  border: .5pt solid var(--sklearn-color-unfitted-level-3);\n",
       "}\n",
       "\n",
       ".sk-estimator-doc-link.fitted span {\n",
       "  /* fitted */\n",
       "  background: var(--sklearn-color-fitted-level-0);\n",
       "  border: var(--sklearn-color-fitted-level-3);\n",
       "}\n",
       "\n",
       ".sk-estimator-doc-link:hover span {\n",
       "  display: block;\n",
       "}\n",
       "\n",
       "/* \"?\"-specific style due to the `<a>` HTML tag */\n",
       "\n",
       "#sk-container-id-1 a.estimator_doc_link {\n",
       "  float: right;\n",
       "  font-size: 1rem;\n",
       "  line-height: 1em;\n",
       "  font-family: monospace;\n",
       "  background-color: var(--sklearn-color-background);\n",
       "  border-radius: 1rem;\n",
       "  height: 1rem;\n",
       "  width: 1rem;\n",
       "  text-decoration: none;\n",
       "  /* unfitted */\n",
       "  color: var(--sklearn-color-unfitted-level-1);\n",
       "  border: var(--sklearn-color-unfitted-level-1) 1pt solid;\n",
       "}\n",
       "\n",
       "#sk-container-id-1 a.estimator_doc_link.fitted {\n",
       "  /* fitted */\n",
       "  border: var(--sklearn-color-fitted-level-1) 1pt solid;\n",
       "  color: var(--sklearn-color-fitted-level-1);\n",
       "}\n",
       "\n",
       "/* On hover */\n",
       "#sk-container-id-1 a.estimator_doc_link:hover {\n",
       "  /* unfitted */\n",
       "  background-color: var(--sklearn-color-unfitted-level-3);\n",
       "  color: var(--sklearn-color-background);\n",
       "  text-decoration: none;\n",
       "}\n",
       "\n",
       "#sk-container-id-1 a.estimator_doc_link.fitted:hover {\n",
       "  /* fitted */\n",
       "  background-color: var(--sklearn-color-fitted-level-3);\n",
       "}\n",
       "</style><div id=\"sk-container-id-1\" class=\"sk-top-container\"><div class=\"sk-text-repr-fallback\"><pre>RandomForestClassifier()</pre><b>In a Jupyter environment, please rerun this cell to show the HTML representation or trust the notebook. <br />On GitHub, the HTML representation is unable to render, please try loading this page with nbviewer.org.</b></div><div class=\"sk-container\" hidden><div class=\"sk-item\"><div class=\"sk-estimator fitted sk-toggleable\"><input class=\"sk-toggleable__control sk-hidden--visually\" id=\"sk-estimator-id-1\" type=\"checkbox\" checked><label for=\"sk-estimator-id-1\" class=\"sk-toggleable__label fitted sk-toggleable__label-arrow fitted\">&nbsp;&nbsp;RandomForestClassifier<a class=\"sk-estimator-doc-link fitted\" rel=\"noreferrer\" target=\"_blank\" href=\"https://scikit-learn.org/1.4/modules/generated/sklearn.ensemble.RandomForestClassifier.html\">?<span>Documentation for RandomForestClassifier</span></a><span class=\"sk-estimator-doc-link fitted\">i<span>Fitted</span></span></label><div class=\"sk-toggleable__content fitted\"><pre>RandomForestClassifier()</pre></div> </div></div></div></div>"
      ],
      "text/plain": [
       "RandomForestClassifier()"
      ]
     },
     "execution_count": 21,
     "metadata": {},
     "output_type": "execute_result"
    }
   ],
   "source": [
    "# Train a classifier (Logistic Regression)\n",
    "model = RandomForestClassifier()\n",
    "model.fit(X_train_tfidf, y_train)"
   ]
  },
  {
   "cell_type": "code",
   "execution_count": 22,
   "id": "be5d7e29",
   "metadata": {
    "execution": {
     "iopub.execute_input": "2024-11-18T10:20:24.697965Z",
     "iopub.status.busy": "2024-11-18T10:20:24.697460Z",
     "iopub.status.idle": "2024-11-18T10:20:26.302202Z",
     "shell.execute_reply": "2024-11-18T10:20:26.300975Z"
    },
    "papermill": {
     "duration": 1.619907,
     "end_time": "2024-11-18T10:20:26.305142",
     "exception": false,
     "start_time": "2024-11-18T10:20:24.685235",
     "status": "completed"
    },
    "tags": []
   },
   "outputs": [
    {
     "name": "stdout",
     "output_type": "stream",
     "text": [
      "Accuracy: 83.26%\n",
      "\n",
      "Classification Report:\n",
      "              precision    recall  f1-score   support\n",
      "\n",
      "          CG       0.82      0.86      0.84      6066\n",
      "          OR       0.85      0.81      0.83      6064\n",
      "\n",
      "    accuracy                           0.83     12130\n",
      "   macro avg       0.83      0.83      0.83     12130\n",
      "weighted avg       0.83      0.83      0.83     12130\n",
      "\n"
     ]
    }
   ],
   "source": [
    "# Predict on the test set\n",
    "y_pred = model.predict(X_test_tfidf)\n",
    "\n",
    "# Step 5: Evaluate the model\n",
    "accuracy = accuracy_score(y_test, y_pred)\n",
    "print(f\"Accuracy: {accuracy * 100:.2f}%\")\n",
    "print(\"\\nClassification Report:\")\n",
    "print(classification_report(y_test, y_pred))"
   ]
  },
  {
   "cell_type": "code",
   "execution_count": 23,
   "id": "477af881",
   "metadata": {
    "execution": {
     "iopub.execute_input": "2024-11-18T10:20:26.329558Z",
     "iopub.status.busy": "2024-11-18T10:20:26.329104Z",
     "iopub.status.idle": "2024-11-18T10:20:26.758785Z",
     "shell.execute_reply": "2024-11-18T10:20:26.757592Z"
    },
    "papermill": {
     "duration": 0.445161,
     "end_time": "2024-11-18T10:20:26.761514",
     "exception": false,
     "start_time": "2024-11-18T10:20:26.316353",
     "status": "completed"
    },
    "tags": []
   },
   "outputs": [
    {
     "data": {
      "image/png": "[encoded data removed]",
      "text/plain": [
       "<Figure size 800x600 with 2 Axes>"
      ]
     },
     "metadata": {},
     "output_type": "display_data"
    }
   ],
   "source": [
    "# Confusion Matrix\n",
    "conf_matrix = confusion_matrix(y_test, y_pred)\n",
    "plt.figure(figsize=(8,6))\n",
    "sns.heatmap(conf_matrix, annot=True, fmt='d', cmap='Blues', xticklabels=model.classes_, yticklabels=model.classes_)\n",
    "plt.title(\"Confusion Matrix\")\n",
    "plt.xlabel(\"Predicted Label\")\n",
    "plt.ylabel(\"True Label\")\n",
    "plt.show()"
   ]
  },
  {
   "cell_type": "code",
   "execution_count": 24,
   "id": "08438d1c",
   "metadata": {
    "execution": {
     "iopub.execute_input": "2024-11-18T10:20:26.786628Z",
     "iopub.status.busy": "2024-11-18T10:20:26.786117Z",
     "iopub.status.idle": "2024-11-18T10:20:27.415886Z",
     "shell.execute_reply": "2024-11-18T10:20:27.414644Z"
    },
    "papermill": {
     "duration": 0.64562,
     "end_time": "2024-11-18T10:20:27.418749",
     "exception": false,
     "start_time": "2024-11-18T10:20:26.773129",
     "status": "completed"
    },
    "tags": []
   },
   "outputs": [
    {
     "data": {
      "text/plain": [
       "['tfidf_vectorizer.pkl']"
      ]
     },
     "execution_count": 24,
     "metadata": {},
     "output_type": "execute_result"
    }
   ],
   "source": [
    "import joblib\n",
    "\n",
    "# Save model\n",
    "joblib.dump(model, 'random_forest_model.pkl')\n",
    "\n",
    "# Save vectorizer\n",
    "joblib.dump(vectorizer, 'tfidf_vectorizer.pkl')\n"
   ]
  }
 ],
 "metadata": {
  "kaggle": {
   "accelerator": "none",
   "dataSources": [
    {
     "datasetId": 3749709,
     "sourceId": 6488923,
     "sourceType": "datasetVersion"
    }
   ],
   "dockerImageVersionId": 30786,
   "isGpuEnabled": false,
   "isInternetEnabled": true,
   "language": "python",
   "sourceType": "notebook"
  },
  "kernelspec": {
   "display_name": "Python 3",
   "language": "python",
   "name": "python3"
  },
  "language_info": {
   "codemirror_mode": {
    "name": "ipython",
    "version": 3
   },
   "file_extension": ".py",
   "mimetype": "text/x-python",
   "name": "python",
   "nbconvert_exporter": "python",
   "pygments_lexer": "ipython3",
   "version": "3.12.1"
  },
  "papermill": {
   "default_parameters": {},
   "duration": 171.61053,
   "end_time": "2024-11-18T10:20:30.992218",
   "environment_variables": {},
   "exception": null,
   "input_path": "__notebook__.ipynb",
   "output_path": "__notebook__.ipynb",
   "parameters": {},
   "start_time": "2024-11-18T10:17:39.381688",
   "version": "2.6.0"
  }
 },
 "nbformat": 4,
 "nbformat_minor": 5
}
